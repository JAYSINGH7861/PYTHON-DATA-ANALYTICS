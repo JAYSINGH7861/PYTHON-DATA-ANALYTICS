{
 "cells": [
  {
   "cell_type": "code",
   "execution_count": 1,
   "metadata": {},
   "outputs": [],
   "source": [
    "from database import User , Message  \n",
    "from database import get_db,save_to_db"
   ]
  },
  {
   "cell_type": "code",
   "execution_count": 2,
   "metadata": {},
   "outputs": [
    {
     "name": "stdout",
     "output_type": "stream",
     "text": [
      "<database.User object at 0x0000029BCA35E350> <database.User object at 0x0000029BCA35EE10> <database.User object at 0x0000029BCA368810> <database.User object at 0x0000029BCA368AD0>\n"
     ]
    }
   ],
   "source": [
    "u1 = User(name=\"alex\",email=\"alex@gmail.com\",password=\"143\")\n",
    "u2 = User(name=\"anuj  \",email=\"anuj@gmail.com\",password=\"1234\")\n",
    "u3 = User(name=\"lambu\",email=\"lambu@gmail.com\",password=\"12345\")\n",
    "u4 = User(name=\"dubey\",email=\"dubey@gmail.com\",password=\"123456\")\n",
    "print(u1,u2,u3,u4)\n"
   ]
  },
  {
   "cell_type": "code",
   "execution_count": null,
   "metadata": {},
   "outputs": [],
   "source": [
    "save_to_db(u1)\n",
    "save_to_db(u2)\n",
    "save_to_db(u3)\n",
    "save_to_db(u4)"
   ]
  },
  {
   "cell_type": "code",
   "execution_count": 3,
   "metadata": {},
   "outputs": [
    {
     "name": "stdout",
     "output_type": "stream",
     "text": [
      "<database.Message object at 0x0000029BCA369450> <database.Message object at 0x0000029BCA369BD0> <database.Message object at 0x0000029BCA369C50> <database.Message object at 0x0000029BCA369D10>\n"
     ]
    }
   ],
   "source": [
    "m1 = Message(user_id=2,Message=\"hlo\")\n",
    "m2 = Message(user_id=2,Message=\"hii\")\n",
    "m3 = Message(user_id=1,Message=\"aa\")\n",
    "m4 = Message(user_id=2,Message=\"bbb\")\n",
    "print(m1,m2,m3,m4)"
   ]
  },
  {
   "cell_type": "code",
   "execution_count": 4,
   "metadata": {},
   "outputs": [],
   "source": [
    "save_to_db(m1)\n",
    "save_to_db(m2)\n",
    "save_to_db(m3)\n",
    "save_to_db(m4)"
   ]
  },
  {
   "cell_type": "code",
   "execution_count": 7,
   "metadata": {},
   "outputs": [
    {
     "name": "stdout",
     "output_type": "stream",
     "text": [
      "2\n",
      "anuj  \n",
      "anuj@gmail.com\n",
      "1234\n",
      "2024-04-04 13:08:03.109832\n"
     ]
    },
    {
     "name": "stderr",
     "output_type": "stream",
     "text": [
      "C:\\Users\\HP\\AppData\\Local\\Temp\\ipykernel_6460\\1902218296.py:3: LegacyAPIWarning: The Query.get() method is considered legacy as of the 1.x series of SQLAlchemy and becomes a legacy construct in 2.0. The method is now available as Session.get() (deprecated since: 2.0) (Background on SQLAlchemy 2.0 at: https://sqlalche.me/e/b8d9)\n",
      "  user=db.query(User).get(uid)\n"
     ]
    }
   ],
   "source": [
    "db=get_db()\n",
    "uid=2\n",
    "user=db.query(User).get(uid)\n",
    "print(user.id)\n",
    "print(user.name)\n",
    "print(user.email)\n",
    "print(user.password)\n",
    "print(user.create_at)\n",
    "db.close()"
   ]
  },
  {
   "cell_type": "code",
   "execution_count": 8,
   "metadata": {},
   "outputs": [
    {
     "name": "stdout",
     "output_type": "stream",
     "text": [
      "1 alex alex@gmail.com\n",
      "2 anuj   anuj@gmail.com\n",
      "3 lambu lambu@gmail.com\n",
      "4 dubey dubey@gmail.com\n"
     ]
    }
   ],
   "source": [
    "db=get_db()\n",
    "users=db.query(User).all()\n",
    "for user in users:\n",
    "    print(user.id,user.name,user.email)\n",
    "db.close()"
   ]
  },
  {
   "cell_type": "code",
   "execution_count": null,
   "metadata": {},
   "outputs": [],
   "source": []
  }
 ],
 "metadata": {
  "kernelspec": {
   "display_name": "base",
   "language": "python",
   "name": "python3"
  },
  "language_info": {
   "codemirror_mode": {
    "name": "ipython",
    "version": 3
   },
   "file_extension": ".py",
   "mimetype": "text/x-python",
   "name": "python",
   "nbconvert_exporter": "python",
   "pygments_lexer": "ipython3",
   "version": "3.11.5"
  }
 },
 "nbformat": 4,
 "nbformat_minor": 2
}
