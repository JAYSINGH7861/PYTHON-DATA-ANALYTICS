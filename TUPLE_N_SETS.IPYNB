{
 "cells": [
  {
   "cell_type": "code",
   "execution_count": 2,
   "metadata": {},
   "outputs": [
    {
     "name": "stdout",
     "output_type": "stream",
     "text": [
      "(1, 2, 3)\n",
      "(2, 5, 8, 9)\n"
     ]
    }
   ],
   "source": [
    "X =(1,2,3)\n",
    "print(X)\n",
    "\n",
    "y=2,5,8,9\n",
    "print(y)             # tuple packing "
   ]
  },
  {
   "cell_type": "code",
   "execution_count": 4,
   "metadata": {},
   "outputs": [
    {
     "name": "stdout",
     "output_type": "stream",
     "text": [
      "1\n",
      "2\n",
      "3\n"
     ]
    }
   ],
   "source": [
    "for i in X :\n",
    "     print(i)"
   ]
  },
  {
   "cell_type": "code",
   "execution_count": 7,
   "metadata": {},
   "outputs": [
    {
     "name": "stdout",
     "output_type": "stream",
     "text": [
      "1\n",
      "3\n",
      "(1, 2, 3, 4, 5, 6, 7)\n",
      "(1, 2, 3, 4, 5)\n",
      "(5, 6, 7)\n"
     ]
    }
   ],
   "source": [
    "print(X[0]) #first element \n",
    "print(X[-1]) #last element \n",
    "a=1,2,3,4,5,6,7\n",
    "print(a)\n",
    "print(a[:5]) #first 5 element \n",
    "print(a[-3:]) #lat  element "
   ]
  },
  {
   "cell_type": "code",
   "execution_count": null,
   "metadata": {},
   "outputs": [],
   "source": [
    "# tuple ha sonly two methond  1. count 2. index "
   ]
  },
  {
   "cell_type": "code",
   "execution_count": 8,
   "metadata": {},
   "outputs": [
    {
     "name": "stdout",
     "output_type": "stream",
     "text": [
      "1\n",
      "0\n",
      "2\n",
      "5\n"
     ]
    }
   ],
   "source": [
    "print(a.count(1)) #count of 1\n",
    "print(a.count(10)) # count of 10\n",
    "print(a.index(3)) # index of 3\n",
    "print(a.index(6)) # index of 3"
   ]
  },
  {
   "cell_type": "code",
   "execution_count": null,
   "metadata": {},
   "outputs": [],
   "source": [
    "# set starts from here "
   ]
  },
  {
   "cell_type": "code",
   "execution_count": 18,
   "metadata": {},
   "outputs": [
    {
     "name": "stdout",
     "output_type": "stream",
     "text": [
      "{1, 2, 3, 4, 5, 6, 7}\n",
      "{'drangon ', 'custard apple', 'orange', 'cherry', 'pomegranate', 'apple', 'banana'}\n",
      "{'drangon ', 'custard apple', 'orange', 'cherry', 'kiwi', 'pomegranate', 'apple', 'banana'}\n",
      "{1, 2, 3, 4, 5, 6, 7, '8'}\n"
     ]
    }
   ],
   "source": [
    "a={1,2,3,4,5,6,7,}\n",
    "print(a) # set will remove duplicates\n",
    "b= {'apple','banana','orange','cherry',\n",
    "   'custard apple','pomegranate','drangon ',}\n",
    "print(b)\n",
    "b.add('kiwi') # adding an items \n",
    "print(b)\n",
    "a.add('8')\n",
    "print(a)"
   ]
  },
  {
   "cell_type": "code",
   "execution_count": null,
   "metadata": {},
   "outputs": [],
   "source": [
    "# operations on sets "
   ]
  },
  {
   "cell_type": "code",
   "execution_count": 23,
   "metadata": {},
   "outputs": [
    {
     "name": "stdout",
     "output_type": "stream",
     "text": [
      "{1, 2, 3, 4, 5, 6, 7, 8, 9}\n",
      "{1, 2, 3, 4, 5, 6, 7, 8, 9}\n",
      "{4}\n",
      "{4}\n",
      "{1, 2, 3, 5}\n",
      "{1, 2, 3, 5}\n",
      "{8, 9, 6, 7}\n"
     ]
    }
   ],
   "source": [
    "x={1,2,3,4,5}\n",
    "y={6,7,8,9,4}\n",
    "#union \n",
    "print(x | y) # join of x and y & remove duplicates \n",
    "print(x.union(y))\n",
    "#intersection\n",
    "print(x & y ) # common elements in x and y \n",
    "print(x.intersection(y))\n",
    "#difference\n",
    "print(x-y) # elements in x but not in y \n",
    "print(x.difference(y))\n",
    "print(y-x) # elements in y but not in x"
   ]
  },
  {
   "cell_type": "code",
   "execution_count": 24,
   "metadata": {},
   "outputs": [
    {
     "name": "stdout",
     "output_type": "stream",
     "text": [
      "{1, 2, 3, 5, 6, 7, 8, 9}\n",
      "{1, 2, 3, 5, 6, 7, 8, 9}\n"
     ]
    }
   ],
   "source": [
    "# symmetric difference \n",
    "print(x ^ y)#difference in x and y not in both \n",
    "print(x.symmetric_difference(y))"
   ]
  },
  {
   "cell_type": "code",
   "execution_count": 26,
   "metadata": {},
   "outputs": [
    {
     "name": "stdout",
     "output_type": "stream",
     "text": [
      "[1, 2, 3, 4, 5, 1, 2, 2] <=list\n",
      "{1, 2, 3, 4, 5} <=set\n",
      "(1, 2, 3, 4, 5) <=tuple\n"
     ]
    }
   ],
   "source": [
    "x=[1,2,3,4,5,1,2,2,]\n",
    "print(x , \"<=list\")\n",
    "xs = set(x)\n",
    "print(xs, \"<=set\")\n",
    "xt=tuple(xs)\n",
    "print(xt, \"<=tuple\",)"
   ]
  },
  {
   "cell_type": "code",
   "execution_count": null,
   "metadata": {},
   "outputs": [],
   "source": []
  }
 ],
 "metadata": {
  "kernelspec": {
   "display_name": "base",
   "language": "python",
   "name": "python3"
  },
  "language_info": {
   "codemirror_mode": {
    "name": "ipython",
    "version": 3
   },
   "file_extension": ".py",
   "mimetype": "text/x-python",
   "name": "python",
   "nbconvert_exporter": "python",
   "pygments_lexer": "ipython3",
   "version": "3.11.5"
  }
 },
 "nbformat": 4,
 "nbformat_minor": 2
}
