{
 "cells": [
  {
   "cell_type": "markdown",
   "metadata": {},
   "source": []
  },
  {
   "cell_type": "code",
   "execution_count": 14,
   "metadata": {},
   "outputs": [],
   "source": [
    "import numpy as np \n"
   ]
  },
  {
   "cell_type": "code",
   "execution_count": 15,
   "metadata": {},
   "outputs": [
    {
     "name": "stdout",
     "output_type": "stream",
     "text": [
      "[2 3 1 5]\n",
      "<class 'numpy.ndarray'>\n"
     ]
    }
   ],
   "source": [
    "x1 =np.array([2,3,1,5])\n",
    "print(x1)\n",
    "print(type(x1))"
   ]
  },
  {
   "cell_type": "code",
   "execution_count": 16,
   "metadata": {},
   "outputs": [
    {
     "name": "stdout",
     "output_type": "stream",
     "text": [
      "[[1 2 3]\n",
      " [4 5 6]]\n",
      "<class 'numpy.ndarray'>\n"
     ]
    }
   ],
   "source": [
    "x2 = np.array([\n",
    "    [1,2,3],\n",
    "    [4,5,6]\n",
    "])\n",
    "print(x2)\n",
    "print(type(x2))"
   ]
  },
  {
   "cell_type": "code",
   "execution_count": 17,
   "metadata": {},
   "outputs": [],
   "source": [
    "# method to create matrix \n",
    "# 1d\n",
    "# arange() - start,stop,step\n",
    "#linspace() -start,stop,numofelements\n",
    "\n",
    "#nd\n",
    "#random.randint() -low,high,size"
   ]
  },
  {
   "cell_type": "code",
   "execution_count": 18,
   "metadata": {},
   "outputs": [
    {
     "name": "stdout",
     "output_type": "stream",
     "text": [
      "[10 11 12 13 14 15 16 17 18 19 20 21 22 23 24 25 26 27 28 29 30 31 32 33\n",
      " 34 35 36 37 38 39 40 41 42 43 44 45 46 47 48 49 50]\n",
      "(41,)\n"
     ]
    }
   ],
   "source": [
    "a=np.arange(10,51)\n",
    "print(a)\n",
    "print(a.shape) # gives the numbers of items in the array "
   ]
  },
  {
   "cell_type": "code",
   "execution_count": 19,
   "metadata": {},
   "outputs": [
    {
     "name": "stdout",
     "output_type": "stream",
     "text": [
      "[10.         10.1010101  10.2020202  10.3030303  10.4040404  10.50505051\n",
      " 10.60606061 10.70707071 10.80808081 10.90909091 11.01010101 11.11111111\n",
      " 11.21212121 11.31313131 11.41414141 11.51515152 11.61616162 11.71717172\n",
      " 11.81818182 11.91919192 12.02020202 12.12121212 12.22222222 12.32323232\n",
      " 12.42424242 12.52525253 12.62626263 12.72727273 12.82828283 12.92929293\n",
      " 13.03030303 13.13131313 13.23232323 13.33333333 13.43434343 13.53535354\n",
      " 13.63636364 13.73737374 13.83838384 13.93939394 14.04040404 14.14141414\n",
      " 14.24242424 14.34343434 14.44444444 14.54545455 14.64646465 14.74747475\n",
      " 14.84848485 14.94949495 15.05050505 15.15151515 15.25252525 15.35353535\n",
      " 15.45454545 15.55555556 15.65656566 15.75757576 15.85858586 15.95959596\n",
      " 16.06060606 16.16161616 16.26262626 16.36363636 16.46464646 16.56565657\n",
      " 16.66666667 16.76767677 16.86868687 16.96969697 17.07070707 17.17171717\n",
      " 17.27272727 17.37373737 17.47474747 17.57575758 17.67676768 17.77777778\n",
      " 17.87878788 17.97979798 18.08080808 18.18181818 18.28282828 18.38383838\n",
      " 18.48484848 18.58585859 18.68686869 18.78787879 18.88888889 18.98989899\n",
      " 19.09090909 19.19191919 19.29292929 19.39393939 19.49494949 19.5959596\n",
      " 19.6969697  19.7979798  19.8989899  20.        ]\n"
     ]
    }
   ],
   "source": [
    "b = np.linspace(10,20,100)\n",
    "print(b)"
   ]
  },
  {
   "cell_type": "code",
   "execution_count": 20,
   "metadata": {},
   "outputs": [
    {
     "name": "stdout",
     "output_type": "stream",
     "text": [
      "[[  3  13  -4   8  -5]\n",
      " [  6  10  10   9  -3]\n",
      " [ 13   2   4  15   1]\n",
      " [ 14  -3  -3  11   3]\n",
      " [-10   0  19  -5  11]]\n"
     ]
    }
   ],
   "source": [
    "c = np.random.randint(-10,20,(5,5))\n",
    "print(c)"
   ]
  },
  {
   "cell_type": "code",
   "execution_count": 21,
   "metadata": {},
   "outputs": [
    {
     "name": "stdout",
     "output_type": "stream",
     "text": [
      "[[2 4 6]\n",
      " [1 3 5]]\n",
      "[[1 2]\n",
      " [5 1]\n",
      " [3 2]]\n",
      "[[40 20]\n",
      " [31 15]]\n"
     ]
    }
   ],
   "source": [
    "a=np.array([\n",
    "    [2,4,6],\n",
    "    [1,3,5]\n",
    "])\n",
    "b=np.array([\n",
    "    [1,2],\n",
    "    [5,1],\n",
    "    [3,2]\n",
    "])\n",
    "print(a,b,sep='\\n')\n",
    "print(a.dot(b)) # matrix multiplications ( dot product )"
   ]
  },
  {
   "cell_type": "markdown",
   "metadata": {},
   "source": [
    "01/03/2024"
   ]
  },
  {
   "cell_type": "markdown",
   "metadata": {},
   "source": [
    "properties "
   ]
  },
  {
   "cell_type": "code",
   "execution_count": 22,
   "metadata": {},
   "outputs": [
    {
     "name": "stdout",
     "output_type": "stream",
     "text": [
      "[[22 80 18 32 20]\n",
      " [78 44 44 94 25]\n",
      " [68 67 59 25 50]\n",
      " [16 98 13 10 18]]\n",
      "[[22 80 18 32]\n",
      " [20 78 44 44]\n",
      " [94 25 68 67]\n",
      " [59 25 50 16]\n",
      " [98 13 10 18]]\n",
      "[[22 80 18 32 20 78 44 44 94 25 68 67 59 25 50 16 98 13 10 18]]\n",
      "[[22]\n",
      " [80]\n",
      " [18]\n",
      " [32]\n",
      " [20]\n",
      " [78]\n",
      " [44]\n",
      " [44]\n",
      " [94]\n",
      " [25]\n",
      " [68]\n",
      " [67]\n",
      " [59]\n",
      " [25]\n",
      " [50]\n",
      " [16]\n",
      " [98]\n",
      " [13]\n",
      " [10]\n",
      " [18]]\n",
      "[[22 80 18 32 20 78 44 44 94 25]\n",
      " [68 67 59 25 50 16 98 13 10 18]]\n",
      "[[22 80]\n",
      " [18 32]\n",
      " [20 78]\n",
      " [44 44]\n",
      " [94 25]\n",
      " [68 67]\n",
      " [59 25]\n",
      " [50 16]\n",
      " [98 13]\n",
      " [10 18]]\n"
     ]
    }
   ],
   "source": [
    "x = np.random.randint(10,99,(4,5))\n",
    "print(x)\n",
    "print(x.reshape(5,4))\n",
    "print(x.reshape(1,20))\n",
    "print(x.reshape(20,1))\n",
    "print(x.reshape(2,10))\n",
    "print(x.reshape(10,2))"
   ]
  },
  {
   "cell_type": "code",
   "execution_count": null,
   "metadata": {},
   "outputs": [],
   "source": [
    "print(x.flatten()) # n dimensional array to 1 dimensional array \n"
   ]
  },
  {
   "cell_type": "code",
   "execution_count": 23,
   "metadata": {},
   "outputs": [
    {
     "name": "stdout",
     "output_type": "stream",
     "text": [
      "[[79 68]\n",
      " [90 20]\n",
      " [44 68]\n",
      " [94 90]\n",
      " [98 21]]\n"
     ]
    }
   ],
   "source": [
    "y = np.random.randint(10,99,(5,2))\n",
    "print(y)"
   ]
  },
  {
   "cell_type": "code",
   "execution_count": 25,
   "metadata": {},
   "outputs": [
    {
     "data": {
      "text/plain": [
       "array([[79, 90, 44, 94, 98],\n",
       "       [68, 20, 68, 90, 21]])"
      ]
     },
     "execution_count": 25,
     "metadata": {},
     "output_type": "execute_result"
    }
   ],
   "source": [
    "y.T"
   ]
  },
  {
   "cell_type": "markdown",
   "metadata": {},
   "source": [
    "maths and stats "
   ]
  },
  {
   "cell_type": "code",
   "execution_count": 27,
   "metadata": {},
   "outputs": [
    {
     "name": "stdout",
     "output_type": "stream",
     "text": [
      "[[3 6]\n",
      " [6 4]]\n",
      "[[ 1  2]\n",
      " [-4  2]]\n",
      "[[2.  2. ]\n",
      " [0.2 3. ]]\n",
      "[[2 8]\n",
      " [5 3]]\n",
      "[[22  8]\n",
      " [16  5]]\n"
     ]
    }
   ],
   "source": [
    "a = np.array([\n",
    "    [2,4],\n",
    "    [1,3]\n",
    "])\n",
    "b = np.array([\n",
    "    [1,2],\n",
    "    [5,1]\n",
    "])\n",
    "\n",
    "# addition\n",
    "print( a+b)\n",
    "#subtractions\n",
    "print(a-b)\n",
    "#division\n",
    "print(a/b)\n",
    "#multiplications\n",
    "print(a*b)\n",
    "# dot product \n",
    "print(a@b) # matrix multiplication"
   ]
  },
  {
   "cell_type": "code",
   "execution_count": 29,
   "metadata": {},
   "outputs": [
    {
     "name": "stdout",
     "output_type": "stream",
     "text": [
      "672\n",
      "[405 267]\n",
      "[147 110 112 184 119]\n",
      "98 20\n",
      "8 3\n"
     ]
    }
   ],
   "source": [
    "print(y.sum())  # summation of all elements \n",
    "print(y.sum(axis=0)) # summation of each column \n",
    "print(y.sum(axis=1)) # summation of each row \n",
    "\n",
    "# max and min \n",
    "print(y.max(),y.min())\n",
    "#argmax and argim -> information about the index of the max and min \n",
    "print(y.argmax(), y.argmin())"
   ]
  },
  {
   "cell_type": "markdown",
   "metadata": {},
   "source": [
    "slicing\n",
    "  - 1d array \n",
    "  X[start:stop:step ]\n",
    "  -2d array \n",
    "  x[ rowstart: rowstop :rowstep , colstart:colstop:colstep]    ,is used for go from row to colm "
   ]
  },
  {
   "cell_type": "code",
   "execution_count": 30,
   "metadata": {},
   "outputs": [
    {
     "name": "stdout",
     "output_type": "stream",
     "text": [
      "[[53 76 27 80 80 75 62 73 69 81]\n",
      " [63 47 55 31 89 31 24 16 79 43]\n",
      " [44 58 45 38 66 45 38 86 87 89]\n",
      " [20 30 72 59 96 85 27 89 86 21]\n",
      " [79 24 79 57 36 88 45 36 25 88]\n",
      " [79 77 99 95 16 41 30 38 71 32]\n",
      " [35 86 31 80 48 76 58 70 22 55]\n",
      " [65 83 60 45 13 75 90 83 90 61]\n",
      " [46 84 11 22 57 14 95 19 51 51]\n",
      " [18 21 11 16 50 25 86 78 55 57]]\n"
     ]
    }
   ],
   "source": [
    "x = np.random.randint(10,100,(10,10))\n",
    "print(x)"
   ]
  },
  {
   "cell_type": "code",
   "execution_count": 40,
   "metadata": {},
   "outputs": [
    {
     "name": "stdout",
     "output_type": "stream",
     "text": [
      "53\n",
      "57\n",
      "[18 21 11 16 50 25 86 78 55 57]\n",
      "[53 76 27 80 80 75 62 73 69 81]\n",
      "[53 63 44 20 79 79 35 65 46 18]\n",
      "[81 43 89 21 88 32 55 61 51 57]\n",
      "[95 80 45 22 16]\n",
      "[[53 76 27]\n",
      " [63 47 55]\n",
      " [44 58 45]\n",
      " [20 30 72]\n",
      " [79 24 79]\n",
      " [79 77 99]\n",
      " [35 86 31]\n",
      " [65 83 60]\n",
      " [46 84 11]\n",
      " [18 21 11]]\n",
      "[[73 69 81]\n",
      " [16 79 43]\n",
      " [86 87 89]\n",
      " [89 86 21]\n",
      " [36 25 88]\n",
      " [38 71 32]\n",
      " [70 22 55]\n",
      " [83 90 61]\n",
      " [19 51 51]\n",
      " [78 55 57]]\n"
     ]
    }
   ],
   "source": [
    "print(x[0,0])  # first element \n",
    "print(x[-1,-1]) # lat element \n",
    "print(x[-1]) # last row \n",
    "print(x[0]) # first row \n",
    "print(x[:,0]) #first column \n",
    "print(x[:,-1]) #first 5 rows of the second column \n",
    "print(x[-5:,3]) # first 5 rows of the fourth colum \n",
    "print(x[:,:3]) # first 3 column \n",
    "print(x[:,-3:]) # last 3 column "
   ]
  },
  {
   "cell_type": "code",
   "execution_count": 43,
   "metadata": {},
   "outputs": [
    {
     "name": "stdout",
     "output_type": "stream",
     "text": [
      "(array([2], dtype=int64), array([4], dtype=int64))\n"
     ]
    }
   ],
   "source": [
    "# find index for any number \n",
    "print(np.where(x == 66))"
   ]
  },
  {
   "cell_type": "code",
   "execution_count": null,
   "metadata": {},
   "outputs": [],
   "source": [
    "# count \n",
    "print(np.count_)"
   ]
  }
 ],
 "metadata": {
  "kernelspec": {
   "display_name": "base",
   "language": "python",
   "name": "python3"
  },
  "language_info": {
   "codemirror_mode": {
    "name": "ipython",
    "version": 3
   },
   "file_extension": ".py",
   "mimetype": "text/x-python",
   "name": "python",
   "nbconvert_exporter": "python",
   "pygments_lexer": "ipython3",
   "version": "3.11.5"
  }
 },
 "nbformat": 4,
 "nbformat_minor": 2
}
