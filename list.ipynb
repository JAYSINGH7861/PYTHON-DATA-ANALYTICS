{
 "cells": [
  {
   "cell_type": "code",
   "execution_count": 6,
   "metadata": {},
   "outputs": [],
   "source": [
    "list=[\"sidd\",\"jay\",\"anuj\",\"lambu\",\"pcs\"]\n",
    "list2=[1,2,3,4,5]\n",
    "list3=[\"handsome\",20,3,40,50,\"B\"]\n",
    "list4=[[1,2,3],[3,4,5],[2,1]]\n"
   ]
  },
  {
   "cell_type": "code",
   "execution_count": 7,
   "metadata": {},
   "outputs": [],
   "source": [
    "data=[\n",
    "    'warbreak','brandon',\n",
    "    'high fantansy','890',\n",
    "    '2015','tor','luck'\n",
    "]"
   ]
  },
  {
   "cell_type": "code",
   "execution_count": 9,
   "metadata": {},
   "outputs": [
    {
     "name": "stdout",
     "output_type": "stream",
     "text": [
      "warbreak\n",
      "brandon\n",
      "high fantansy\n",
      "890\n",
      "2015\n",
      "tor\n",
      "luck\n"
     ]
    }
   ],
   "source": [
    "# traverse\n",
    "for item in data:\n",
    "    print(item)"
   ]
  },
  {
   "cell_type": "code",
   "execution_count": 11,
   "metadata": {},
   "outputs": [
    {
     "name": "stdout",
     "output_type": "stream",
     "text": [
      "warbreak\n",
      "luck\n",
      "[]\n"
     ]
    }
   ],
   "source": [
    "#indexed\n",
    "print(data[0])#indexed->0\n",
    "print(data[-1])#last element \n",
    "print(data[-3:1]) #index 3"
   ]
  },
  {
   "cell_type": "code",
   "execution_count": 12,
   "metadata": {},
   "outputs": [
    {
     "name": "stdout",
     "output_type": "stream",
     "text": [
      "['warbreak', 'brandon', 'high fantansy']\n",
      "[]\n"
     ]
    }
   ],
   "source": [
    "# slicking\n",
    "print(data[:3]) # first 3 element \n",
    "print(data[-3:1])#last 3 element"
   ]
  },
  {
   "cell_type": "code",
   "execution_count": 13,
   "metadata": {},
   "outputs": [
    {
     "name": "stdout",
     "output_type": "stream",
     "text": [
      "['luck', 'tor', '2015', '890', 'high fantansy', 'brandon', 'warbreak']\n",
      "['warbreak', 'high fantansy', '2015', 'luck']\n"
     ]
    }
   ],
   "source": [
    "print(data[::-1]) # reverse\n",
    "print(data[::2]) # "
   ]
  },
  {
   "cell_type": "code",
   "execution_count": 14,
   "metadata": {},
   "outputs": [
    {
     "name": "stdout",
     "output_type": "stream",
     "text": [
      "['warbreak', 'tor', 'luck', 'high fantansy', 'brandon', '890', '2015']\n"
     ]
    }
   ],
   "source": [
    "data.sort (reverse=True) # sort \n",
    "print(data)"
   ]
  },
  {
   "cell_type": "code",
   "execution_count": 15,
   "metadata": {},
   "outputs": [
    {
     "name": "stdout",
     "output_type": "stream",
     "text": [
      "['2015', '890', 'brandon', 'high fantansy', 'luck', 'tor', 'warbreak']\n"
     ]
    }
   ],
   "source": [
    "data.reverse() #reverse \n",
    "print(data)"
   ]
  },
  {
   "cell_type": "code",
   "execution_count": 16,
   "metadata": {},
   "outputs": [
    {
     "data": {
      "text/plain": [
       "5"
      ]
     },
     "execution_count": 16,
     "metadata": {},
     "output_type": "execute_result"
    }
   ],
   "source": [
    "data.index('tor') #to find the value in index "
   ]
  },
  {
   "cell_type": "code",
   "execution_count": 22,
   "metadata": {},
   "outputs": [],
   "source": [
    "# append functions\n",
    "\n",
    "fruit=[]\n",
    "fruit.append(\"apple\")\n",
    "fruit.append(\"banana\")\n",
    "fruit.append(\"cherry\")\n",
    "fruit.append(\"watermelon\")\n",
    "fruit.append(\"dragon food\")\n",
    "fruit.append(\"cherry\")\n"
   ]
  },
  {
   "cell_type": "code",
   "execution_count": 23,
   "metadata": {},
   "outputs": [
    {
     "name": "stdout",
     "output_type": "stream",
     "text": [
      "['apple', 'orange', 'banana', 'cherry', 'watermelon', 'dragon food', 'cherry']\n"
     ]
    }
   ],
   "source": [
    "fruit.insert(1,\"orange\")\n",
    "print(fruit)"
   ]
  },
  {
   "cell_type": "code",
   "execution_count": null,
   "metadata": {},
   "outputs": [],
   "source": [
    "fruits=['apple','banana','cherry','guava']\n",
    "dry_fruits=['almond','cashew','walnut']\n",
    " # do it ??/"
   ]
  },
  {
   "cell_type": "code",
   "execution_count": 24,
   "metadata": {},
   "outputs": [
    {
     "data": {
      "text/plain": [
       "['guava', 'apple', 'banana']"
      ]
     },
     "execution_count": 24,
     "metadata": {},
     "output_type": "execute_result"
    }
   ],
   "source": [
    "# remove functions\n",
    "\n",
    "fruits=['cherry','guava','apple','banana']\n",
    "fruits.remove('cherry')\n",
    "fruits"
   ]
  },
  {
   "cell_type": "code",
   "execution_count": 25,
   "metadata": {},
   "outputs": [
    {
     "name": "stdout",
     "output_type": "stream",
     "text": [
      "banana\n"
     ]
    }
   ],
   "source": [
    "fruits=['cherry','guava','apple','banana']\n",
    "v=fruits.pop()\n",
    "print(v)      # pop functions to show only search items "
   ]
  },
  {
   "cell_type": "code",
   "execution_count": 26,
   "metadata": {},
   "outputs": [
    {
     "name": "stdout",
     "output_type": "stream",
     "text": [
      "apple\n"
     ]
    }
   ],
   "source": [
    "fruits=['cherry','guava','apple','banana']\n",
    "v=fruits.pop(2)\n",
    "print(v)"
   ]
  },
  {
   "cell_type": "code",
   "execution_count": null,
   "metadata": {},
   "outputs": [],
   "source": []
  }
 ],
 "metadata": {
  "kernelspec": {
   "display_name": "base",
   "language": "python",
   "name": "python3"
  },
  "language_info": {
   "codemirror_mode": {
    "name": "ipython",
    "version": 3
   },
   "file_extension": ".py",
   "mimetype": "text/x-python",
   "name": "python",
   "nbconvert_exporter": "python",
   "pygments_lexer": "ipython3",
   "version": "3.11.5"
  }
 },
 "nbformat": 4,
 "nbformat_minor": 2
}
