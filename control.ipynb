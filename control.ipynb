{
 "cells": [
  {
   "cell_type": "code",
   "execution_count": 3,
   "metadata": {},
   "outputs": [
    {
     "name": "stdout",
     "output_type": "stream",
     "text": [
      "hurray\n",
      "hello\n"
     ]
    }
   ],
   "source": [
    "x = int(input('given me number'))\n",
    "if x >=10:\n",
    "    print(\"hurray\")\n",
    "print(\"hello\")"
   ]
  },
  {
   "cell_type": "code",
   "execution_count": 14,
   "metadata": {},
   "outputs": [
    {
     "name": "stdout",
     "output_type": "stream",
     "text": [
      "even\n"
     ]
    }
   ],
   "source": [
    "if x % 2==0:\n",
    "    print(\"even\")"
   ]
  },
  {
   "cell_type": "code",
   "execution_count": 22,
   "metadata": {},
   "outputs": [
    {
     "name": "stdout",
     "output_type": "stream",
     "text": [
      "Expensive\n"
     ]
    }
   ],
   "source": [
    "price =2600\n",
    "if price > 1000:\n",
    "    print(\"Expensive\")\n",
    "else:\n",
    "    print('we can buy it')"
   ]
  },
  {
   "cell_type": "code",
   "execution_count": 36,
   "metadata": {},
   "outputs": [
    {
     "name": "stdout",
     "output_type": "stream",
     "text": [
      "45/600=7.50%\n",
      "Grade:f\n"
     ]
    }
   ],
   "source": [
    "marks = int(input('enter your marks'))\n",
    "total= 600\n",
    "pct = marks/total*100\n",
    "print(f'{marks}/{total}={pct:.2f}%')\n",
    "if pct>90:\n",
    "   grade='a'\n",
    "elif pct>70:\n",
    "   grade='b'\n",
    "elif pct>50:\n",
    "   grade='c'\n",
    "else:\n",
    "   grade='f'\n",
    "print(f'Grade:{grade}')\n"
   ]
  },
  {
   "cell_type": "code",
   "execution_count": 47,
   "metadata": {},
   "outputs": [
    {
     "name": "stdout",
     "output_type": "stream",
     "text": [
      "what is the capital of bihar\n",
      "correct\n"
     ]
    }
   ],
   "source": [
    "print(\"what is the capital of bihar\")\n",
    "ans=input('your answer')\n",
    "match ans:\n",
    "    case 'delhi':\n",
    "        print (\"incorrect\")\n",
    "    case 'patna'|'Patna':\n",
    "        print (\"correct\")\n",
    "    case _: \n",
    "        print(\"invalid answer\")"
   ]
  },
  {
   "cell_type": "code",
   "execution_count": null,
   "metadata": {},
   "outputs": [],
   "source": []
  },
  {
   "cell_type": "markdown",
   "metadata": {},
   "source": [
    "loops \n",
    "   iterations based for \n",
    "   conditions baed wile"
   ]
  },
  {
   "cell_type": "code",
   "execution_count": null,
   "metadata": {},
   "outputs": [],
   "source": []
  }
 ],
 "metadata": {
  "kernelspec": {
   "display_name": "base",
   "language": "python",
   "name": "python3"
  },
  "language_info": {
   "codemirror_mode": {
    "name": "ipython",
    "version": 3
   },
   "file_extension": ".py",
   "mimetype": "text/x-python",
   "name": "python",
   "nbconvert_exporter": "python",
   "pygments_lexer": "ipython3",
   "version": "3.11.5"
  }
 },
 "nbformat": 4,
 "nbformat_minor": 2
}
